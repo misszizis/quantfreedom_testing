{
 "cells": [
  {
   "cell_type": "code",
   "execution_count": 113,
   "metadata": {},
   "outputs": [
    {
     "name": "stdout",
     "output_type": "stream",
     "text": [
      "The autoreload extension is already loaded. To reload it, use:\n",
      "  %reload_ext autoreload\n"
     ]
    }
   ],
   "source": [
    "import numpy as np\n",
    "\n",
    "from macd_strategy import MACDandEMA\n",
    "\n",
    "from quantfreedom.enums import DynamicOrderSettingsArrays\n",
    "from quantfreedom.enums import *\n",
    "from quantfreedom.helper_funcs import dl_ex_candles\n",
    "from quantfreedom.simulate import run_df_backtest, or_backtest\n",
    "\n",
    "\n",
    "np.set_printoptions(formatter={\"float_kind\": \"{:0.2f}\".format})\n",
    "\n",
    "%load_ext autoreload\n",
    "%autoreload 2"
   ]
  },
  {
   "cell_type": "code",
   "execution_count": 114,
   "metadata": {},
   "outputs": [],
   "source": [
    "candles = dl_ex_candles(\n",
    "    exchange=\"mufex\",\n",
    "    symbol='BTCUSDT',\n",
    "    timeframe='1h',\n",
    "    candles_to_dl=3000\n",
    "    )"
   ]
  },
  {
   "cell_type": "code",
   "execution_count": 115,
   "metadata": {},
   "outputs": [],
   "source": [
    "macd_strat = MACDandEMA(\n",
    "    long_short= \"long\",\n",
    "    ema_length=np.arange(100, 501, 100),\n",
    "    fast_length=np.arange(10, 61, 10),\n",
    "    macd_below=np.arange(0, 51, 25),\n",
    "    signal_smoothing=np.arange(5, 16, 5),\n",
    "    slow_length=np.arange(30, 121, 30),\n",
    ")"
   ]
  },
  {
   "cell_type": "code",
   "execution_count": 116,
   "metadata": {},
   "outputs": [],
   "source": [
    "backtest_settings = BacktestSettings()\n",
    "    \n",
    "exchange_settings = ExchangeSettings(\n",
    "    asset_tick_step=3,             # Decimal precision for Bitcoin can be high since it can be priced very granularly\n",
    "    leverage_mode=1,  # Isolated leverage is safer for managing risk in volatile markets\n",
    "    leverage_tick_step=2,       # Allows for fine control over leverage adjustments\n",
    "    limit_fee_pct=0.0003,          # Typical limit order fee percentage for lower volume tiers on Kraken\n",
    "    market_fee_pct=0.0006,         # Typical market order fee percentage for lower volume tiers on Kraken\n",
    "    max_asset_size=100.0,            # Practical upper limit for the size of a single Bitcoin order\n",
    "    max_leverage=150.0,              # Maximum allowable leverage for Bitcoin; check current regulatory limits\n",
    "    min_asset_size=0.001,          # Minimum trade size for Bitcoin on Kraken\n",
    "    min_leverage=1.0,              # Minimum leverage available (effectively no leverage)\n",
    "    mmr_pct=0.004,                  # Maintenance margin requirement at 4% is typical for Bitcoin\n",
    "    position_mode=3,               # Assuming '1' is for netted positions, which is typical for individual traders\n",
    "    price_tick_step=1,            # Minimum price movement for Bitcoin, appropriate given its value\n",
    ")"
   ]
  },
  {
   "cell_type": "code",
   "execution_count": 117,
   "metadata": {},
   "outputs": [],
   "source": [
    "static_os = StaticOrderSettings(\n",
    "    increase_position_type=IncreasePositionType.RiskPctAccountEntrySize,    # Increase position size based on risk percentage of account size\n",
    "    leverage_strategy_type=LeverageStrategyType.Dynamic,    # Leverage is dynamically adjusted based on account size\n",
    "    pg_min_max_sl_bcb=\"min\",    # Stop loss is based on the minimum of the last two candle bodies\n",
    "    sl_strategy_type=StopLossStrategyType.SLBasedOnCandleBody,  # Stop loss is based on the candle body\n",
    "    sl_to_be_bool=False,    # Stop loss is not based on the candle body\n",
    "    starting_bar=50,    # Start the strategy after 50 bars\n",
    "    starting_equity=1000.0,   # Start with $1000\n",
    "    static_leverage=None,   # Leverage is dynamically adjusted based on account size\n",
    "    tp_fee_type=\"limit\",    # Take profit is based on the limit fee\n",
    "    tp_strategy_type=TakeProfitStrategyType.RiskReward,   # Take profit is based on the risk-reward ratio\n",
    "    trail_sl_bool=False,    # Trailing stop loss is not used\n",
    "    z_or_e_type=None,   # Z-score or entropy is not used\n",
    ")"
   ]
  },
  {
   "cell_type": "code",
   "execution_count": 118,
   "metadata": {},
   "outputs": [],
   "source": [
    "dos_arrays = DynamicOrderSettingsArrays(\n",
    "    account_pct_risk_per_trade=np.array([12]),\n",
    "    max_trades=np.array([0]),\n",
    "    risk_reward=np.array([2, 5]),\n",
    "    sl_based_on_add_pct=np.array([0.1, 0.25, 0.5]),\n",
    "    sl_based_on_lookback=np.array([20, 50]),\n",
    "    sl_bcb_type=np.array([CandleBodyType.Low]),\n",
    "    sl_to_be_cb_type=np.array([CandleBodyType.Nothing]),\n",
    "    sl_to_be_when_pct=np.array([0]),\n",
    "    trail_sl_bcb_type=np.array([CandleBodyType.Low]),\n",
    "    trail_sl_by_pct=np.array([0.5, 1.0]),\n",
    "    trail_sl_when_pct=np.array([1, 2]),\n",
    ")"
   ]
  },
  {
   "cell_type": "code",
   "execution_count": 119,
   "metadata": {},
   "outputs": [
    {
     "ename": "TypeError",
     "evalue": "'NoneType' object is not subscriptable",
     "output_type": "error",
     "traceback": [
      "\u001b[1;31m---------------------------------------------------------------------------\u001b[0m",
      "\u001b[1;31mTypeError\u001b[0m                                 Traceback (most recent call last)",
      "Cell \u001b[1;32mIn[119], line 1\u001b[0m\n\u001b[1;32m----> 1\u001b[0m backtest_results \u001b[38;5;241m=\u001b[39m \u001b[43mrun_df_backtest\u001b[49m\u001b[43m(\u001b[49m\n\u001b[0;32m      2\u001b[0m \u001b[43m    \u001b[49m\u001b[43mbacktest_settings\u001b[49m\u001b[38;5;241;43m=\u001b[39;49m\u001b[43mbacktest_settings\u001b[49m\u001b[43m,\u001b[49m\n\u001b[0;32m      3\u001b[0m \u001b[43m    \u001b[49m\u001b[43mcandles\u001b[49m\u001b[38;5;241;43m=\u001b[39;49m\u001b[43mcandles\u001b[49m\u001b[43m,\u001b[49m\n\u001b[0;32m      4\u001b[0m \u001b[43m    \u001b[49m\u001b[43mdos_arrays\u001b[49m\u001b[38;5;241;43m=\u001b[39;49m\u001b[43mdos_arrays\u001b[49m\u001b[43m,\u001b[49m\n\u001b[0;32m      5\u001b[0m \u001b[43m    \u001b[49m\u001b[43mexchange_settings\u001b[49m\u001b[38;5;241;43m=\u001b[39;49m\u001b[43mexchange_settings\u001b[49m\u001b[43m,\u001b[49m\n\u001b[0;32m      6\u001b[0m \u001b[43m    \u001b[49m\u001b[43mstatic_os\u001b[49m\u001b[38;5;241;43m=\u001b[39;49m\u001b[43mstatic_os\u001b[49m\u001b[43m,\u001b[49m\n\u001b[0;32m      7\u001b[0m \u001b[43m    \u001b[49m\u001b[43mstrategy\u001b[49m\u001b[38;5;241;43m=\u001b[39;49m\u001b[43mmacd_strat\u001b[49m\u001b[43m,\u001b[49m\n\u001b[0;32m      8\u001b[0m \u001b[43m)\u001b[49m\n",
      "File \u001b[1;32mc:\\Coding\\qfstrat\\lib\\site-packages\\quantfreedom\\simulate.py:52\u001b[0m, in \u001b[0;36mrun_df_backtest\u001b[1;34m(backtest_settings, candles, dos_arrays, exchange_settings, static_os, strategy)\u001b[0m\n\u001b[0;32m     49\u001b[0m \u001b[38;5;66;03m# Creating Settings Vars\u001b[39;00m\n\u001b[0;32m     50\u001b[0m total_order_settings \u001b[38;5;241m=\u001b[39m dos_cart_arrays[\u001b[38;5;241m0\u001b[39m]\u001b[38;5;241m.\u001b[39msize\n\u001b[1;32m---> 52\u001b[0m total_indicator_settings \u001b[38;5;241m=\u001b[39m \u001b[43mstrategy\u001b[49m\u001b[38;5;241;43m.\u001b[39;49m\u001b[43mindicator_settings_arrays\u001b[49m\u001b[43m[\u001b[49m\u001b[38;5;241;43m0\u001b[39;49m\u001b[43m]\u001b[49m\u001b[38;5;241m.\u001b[39msize\n\u001b[0;32m     54\u001b[0m total_bars \u001b[38;5;241m=\u001b[39m candles\u001b[38;5;241m.\u001b[39mshape[\u001b[38;5;241m0\u001b[39m]\n\u001b[0;32m     56\u001b[0m \u001b[38;5;66;03m# logger.infoing out total numbers of things\u001b[39;00m\n",
      "\u001b[1;31mTypeError\u001b[0m: 'NoneType' object is not subscriptable"
     ]
    }
   ],
   "source": [
    "backtest_results = run_df_backtest(\n",
    "    backtest_settings=backtest_settings,\n",
    "    candles=candles,\n",
    "    dos_arrays=dos_arrays,\n",
    "    exchange_settings=exchange_settings,\n",
    "    static_os=static_os,\n",
    "    strategy=macd_strat,\n",
    ")"
   ]
  }
 ],
 "metadata": {
  "kernelspec": {
   "display_name": "Python 3",
   "language": "python",
   "name": "python3"
  },
  "language_info": {
   "codemirror_mode": {
    "name": "ipython",
    "version": 3
   },
   "file_extension": ".py",
   "mimetype": "text/x-python",
   "name": "python",
   "nbconvert_exporter": "python",
   "pygments_lexer": "ipython3",
   "version": "3.10.10"
  }
 },
 "nbformat": 4,
 "nbformat_minor": 2
}
